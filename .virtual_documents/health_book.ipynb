
import pandas as pd
import geopandas as gpd
import matplotlib.pyplot as plt
from pygris import tracts






def get_tracts(state: str) -> gpd.GeoDataFrame:
    """
    Download census tracts for a given state using pygris.
    
    Args:
        state: Two-digit FIPS code for the state (e.g. '48' for Texas)
        
    Returns:
        GeoDataFrame containing census tract geometries and metadata
    """
    print(f"Downloading census tracts for state {state}...")
    tracts_gdf = tracts(state=state, year=2020)
    
    # Ensure GEOID is properly formatted as string
    tracts_gdf['GEOID'] = tracts_gdf['GEOID'].astype(str)
    
    return tracts_gdf


# Download tract geometries
tx_tracts = get_tracts('48')  # Texas
mi_tracts = get_tracts('26')  # Michigan


# Filter to specific counties
wayne_tracts = mi_tracts[mi_tracts['COUNTYFP']=='163']  # Wayne County, MI
travis_tracts = tx_tracts[tx_tracts['COUNTYFP']=='453'] # Travis County, TX


def get_children_in_poverty(csv_file: str) -> pd.DataFrame:
    """
    Read a CSV file containing children in poverty data.
    
    Args:
        csv_file: Path to the CSV file containing children in poverty data
        
    Returns:
        DataFrame containing children in poverty data
    """
    # TODO: Filter rows where 'metric_name' is  only 'Children in Poverty'

    df =  pd.read_csv(csv_file)
    df = df[df['metric_name'] == 'Children in Poverty']
    return df

df_detroit = get_children_in_poverty('data/health/michigan_health/MI_Tract_City_12-03-2024.csv')
df_austin = get_children_in_poverty('data/health/texas_health/TX_Tract_City_12-03-2024.csv')
print("--- DETROIT ---  ")
print(df_detroit.head())
print("--- AUSTIN ---  ")
print(df_austin.head())


def merge_tracts_and_data(geo: gpd.GeoDataFrame, health_df: pd.DataFrame) -> gpd.GeoDataFrame:
    """
    Merge census tracts with children in poverty data.
    
    Args:
        tracts_gdf: GeoDataFrame containing census tract geometries
        data_df: DataFrame containing children in poverty data
        
    Returns:
        GeoDataFrame with merged data
    """
    health_df['geo_fips'] = health_df['geo_fips'].astype(str)
    geo['GEOID'] = geo['GEOID'].astype(str)
    return geo.merge(health_df, left_on='GEOID', right_on='geo_fips', how='left')

print("--- DETROIT ---  ")
merged_detroit = merge_tracts_and_data(wayne_tracts, df_detroit)
print(merged_detroit.head())
print("--- AUSTIN ---  ")
merged_austin = merge_tracts_and_data(travis_tracts, df_austin)
print(merged_austin.head())


print(merged_detroit['est'])


def create_chart(merged_df: gpd.GeoDataFrame, title: str) -> None:
    """
    Create a choropleth map showing children in poverty percentages by census tract.
    
    Args:
        merged_df: GeoDataFrame containing tract geometries and poverty data
    """
    fig, ax = plt.subplots(1, 1, figsize=(10, 10))
    
    # Create the choropleth map
    # Handle NaN values by creating a mask
    mask = merged_df['est'].notna()
    
    # Plot tracts with data
    merged_df[mask].plot(
        column='est',
        cmap='viridis',  # Modern, perceptually uniform colormap
        legend=True,
        legend_kwds={
            'label': 'Children in Poverty (%)',
            'orientation': 'vertical',
            'shrink': 0.8
        },
        ax=ax
    )
    
    # Plot tracts with missing data in grey
    merged_df[~mask].plot(
        color='lightgrey',
        ax=ax
    )
    
    # Customize the map
    ax.set_title(f'{title} Children in Poverty by Census Tract', fontsize=14, pad=20)
    ax.set_axis_off()
    # Add borders to tracts
    merged_df.boundary.plot(color='black', linewidth=0.2, ax=ax)
    
    plt.tight_layout()
    plt.show()
    plt.savefig(f'{title}_children_in_poverty.png')
    plt.close()

create_chart(merged_detroit, 'Detroit')
create_chart(merged_austin, 'Austin')
#create_chart(merged_austin)

