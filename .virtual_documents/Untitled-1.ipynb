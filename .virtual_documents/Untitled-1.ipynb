


import geopandas as gpd
import matplotlib.pyplot as plt

# Read the shapefile
gdf = gpd.read_file('./files/IFF_ECEanalysis2024_DetroitZipCodes_20241219.shp')

# Create a figure with a specific size
fig, ax = plt.subplots(figsize=(15, 10))

# Plot the shapefile with some styling
gdf.plot(
    ax=ax,
    edgecolor='black',     # Border color of polygons
    linewidth=0.5,         # Width of borders
    alpha=0.7,             # Transparency of polygons
)

# Add a title
plt.title('Predominant Race Distribution', fontsize=16)

# Add axis labels
plt.xlabel('Longitude', fontsize=12)
plt.ylabel('Latitude', fontsize=12)

# Let's see what columns we have in the data
print("Available columns in the dataset:", gdf.columns.tolist())

# Show the plot
plt.show()

# Display first few rows of the data to understand its structure
print("\nFirst few rows of the data:")
print(gdf.head())



