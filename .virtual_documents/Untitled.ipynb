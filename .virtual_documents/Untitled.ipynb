import geopandas as gpd

import matplotlib.pyplot as plt

# Read the shapefile
shapefile_path = 'ESRI Shapefile:./PredominantRace.sd'
gdf = gpd.read_file(shapefile_path)

# Plot the shapefile
gdf.plot()
plt.show()



